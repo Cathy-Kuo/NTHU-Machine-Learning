{
 "cells": [
  {
   "cell_type": "code",
   "execution_count": 41,
   "metadata": {},
   "outputs": [],
   "source": [
    "import string\n",
    "from sklearn.datasets import load_digits\n",
    "from sklearn.linear_model import Perceptron\n",
    "import matplotlib.pyplot as plt\n",
    "import random"
   ]
  },
  {
   "cell_type": "code",
   "execution_count": 42,
   "metadata": {},
   "outputs": [],
   "source": [
    "f = open('hw3_dataset.txt', \"r\")\n",
    "lines = f.readlines()\n",
    "f.close()\n",
    "trainingSet=[]\n",
    "C=[0] * 20\n",
    "a = 0\n",
    "for line in lines:\n",
    "    sum = 0\n",
    "    trainingSet.append([1, int(line[5]), int(line[6]), int(line[7]), int(line[8]), int(line[9])])\n",
    "    for j in range(5, 10):\n",
    "        sum+= int(line[j])\n",
    "    if sum >2:\n",
    "        C[a] = 1\n",
    "    else:\n",
    "        C[a] = 0\n",
    "    a+=1"
   ]
  },
  {
   "cell_type": "code",
   "execution_count": 43,
   "metadata": {},
   "outputs": [],
   "source": [
    "def CH(pos, data, N):\n",
    "    h = 0\n",
    "    for i in range(6+N):\n",
    "        h+=round(weight[i]*data[i], 1)\n",
    "    h = round(h, 1)\n",
    "    if h<=0:\n",
    "        h = 0\n",
    "    else:\n",
    "        h = 1\n",
    "    return (C[pos]-h)"
   ]
  },
  {
   "cell_type": "code",
   "execution_count": 44,
   "metadata": {},
   "outputs": [],
   "source": [
    "def Weight(rate, ch, x, N):\n",
    "    for i in range(6+N):\n",
    "        weight[i] = round ((weight[i] + rate*ch*x[i]), 1)"
   ]
  },
  {
   "cell_type": "code",
   "execution_count": 45,
   "metadata": {},
   "outputs": [
    {
     "name": "stdout",
     "output_type": "stream",
     "text": [
      "6\n"
     ]
    }
   ],
   "source": [
    "N=1\n",
    "tSet=[]\n",
    "for line in lines:\n",
    "    tSet.append([1, int(line[5]), int(line[6]), int(line[7]), int(line[8]), int(line[9]), random.randint(0,1)])\n",
    "weight = [0.2] * 7\n",
    "done = 0\n",
    "count = 0\n",
    "rund1 = 0\n",
    "while done!=1 :\n",
    "    rund1+=1\n",
    "    for i in range(20):\n",
    "        ch = CH(i, tSet[i], N)\n",
    "        if (ch!=0):\n",
    "            Weight(0.2, ch, tSet[i], N)\n",
    "            count = 0\n",
    "        else:\n",
    "            count+=1\n",
    "        if (count==20):\n",
    "            done = 1\n",
    "print(rund1)"
   ]
  },
  {
   "cell_type": "code",
   "execution_count": 46,
   "metadata": {},
   "outputs": [
    {
     "name": "stdout",
     "output_type": "stream",
     "text": [
      "5\n"
     ]
    }
   ],
   "source": [
    "N=5\n",
    "tSet=[]\n",
    "for line in lines:\n",
    "    tSet.append([1, int(line[5]), int(line[6]), int(line[7]), int(line[8]), int(line[9]), random.randint(0,1), random.randint(0,1), random.randint(0,1), random.randint(0,1), random.randint(0,1)])\n",
    "weight = [0.2] * 11\n",
    "done = 0\n",
    "count = 0\n",
    "rund5 = 0\n",
    "while done!=1 :\n",
    "    rund5+=1\n",
    "    for i in range(20):\n",
    "        ch = CH(i, tSet[i], N)\n",
    "        if (ch!=0):\n",
    "            Weight(0.2, ch, tSet[i], N)\n",
    "            count = 0\n",
    "        else:\n",
    "            count+=1\n",
    "        if (count==20):\n",
    "            done = 1\n",
    "print(rund5)"
   ]
  },
  {
   "cell_type": "code",
   "execution_count": 47,
   "metadata": {},
   "outputs": [
    {
     "name": "stdout",
     "output_type": "stream",
     "text": [
      "7\n"
     ]
    }
   ],
   "source": [
    "N=10\n",
    "tSet=[]\n",
    "for line in lines:\n",
    "    tSet.append([1, int(line[5]), int(line[6]), int(line[7]), int(line[8]), int(line[9]), random.randint(0,1), random.randint(0,1), random.randint(0,1), random.randint(0,1), random.randint(0,1), random.randint(0,1), random.randint(0,1), random.randint(0,1), random.randint(0,1), random.randint(0,1)])\n",
    "weight = [0.2] * 16\n",
    "done = 0\n",
    "count = 0\n",
    "rund10 = 0\n",
    "while done!=1 :\n",
    "    rund10+=1\n",
    "    for i in range(20):\n",
    "        ch = CH(i, tSet[i], N)\n",
    "        if (ch!=0):\n",
    "            Weight(0.2, ch, tSet[i], N)\n",
    "            count = 0\n",
    "        else:\n",
    "            count+=1\n",
    "        if (count==20):\n",
    "            done = 1\n",
    "print(rund10)"
   ]
  },
  {
   "cell_type": "code",
   "execution_count": 48,
   "metadata": {},
   "outputs": [
    {
     "name": "stdout",
     "output_type": "stream",
     "text": [
      "4\n"
     ]
    }
   ],
   "source": [
    "N=15\n",
    "tSet=[]\n",
    "for line in lines:\n",
    "    tSet.append([1, int(line[5]), int(line[6]), int(line[7]), int(line[8]), int(line[9]), random.randint(0,1), random.randint(0,1), random.randint(0,1), random.randint(0,1), random.randint(0,1), random.randint(0,1), random.randint(0,1), random.randint(0,1), random.randint(0,1), random.randint(0,1), random.randint(0,1), random.randint(0,1), random.randint(0,1), random.randint(0,1), random.randint(0,1)])\n",
    "weight = [0.2] * 21\n",
    "done = 0\n",
    "count = 0\n",
    "rund15 = 0\n",
    "while done!=1 :\n",
    "    rund15+=1\n",
    "    for i in range(20):\n",
    "        ch = CH(i, tSet[i], N)\n",
    "        if (ch!=0):\n",
    "            Weight(0.2, ch, tSet[i], N)\n",
    "            count = 0\n",
    "        else:\n",
    "            count+=1\n",
    "        if (count==20):\n",
    "            done = 1\n",
    "print(rund15)"
   ]
  },
  {
   "cell_type": "code",
   "execution_count": 49,
   "metadata": {},
   "outputs": [
    {
     "name": "stdout",
     "output_type": "stream",
     "text": [
      "5\n"
     ]
    }
   ],
   "source": [
    "N=20\n",
    "tSet=[]\n",
    "for line in lines:\n",
    "    tSet.append([1, int(line[5]), int(line[6]), int(line[7]), int(line[8]), int(line[9]), random.randint(0,1), random.randint(0,1), random.randint(0,1), random.randint(0,1), random.randint(0,1), random.randint(0,1), random.randint(0,1), random.randint(0,1), random.randint(0,1), random.randint(0,1), random.randint(0,1), random.randint(0,1), random.randint(0,1), random.randint(0,1), random.randint(0,1), random.randint(0,1), random.randint(0,1), random.randint(0,1), random.randint(0,1), random.randint(0,1)])\n",
    "weight = [0.2] * 26\n",
    "done = 0\n",
    "count = 0\n",
    "rund20 = 0\n",
    "while done!=1 :\n",
    "    rund20+=1\n",
    "    for i in range(20):\n",
    "        ch = CH(i, tSet[i], N)\n",
    "        if (ch!=0):\n",
    "            Weight(0.2, ch, tSet[i], N)\n",
    "            count = 0\n",
    "        else:\n",
    "            count+=1\n",
    "        if (count==20):\n",
    "            done = 1\n",
    "print(rund20)"
   ]
  },
  {
   "cell_type": "code",
   "execution_count": 50,
   "metadata": {},
   "outputs": [
    {
     "data": {
      "image/png": "[encoded data removed]",
      "text/plain": [
       "<Figure size 432x288 with 1 Axes>"
      ]
     },
     "metadata": {
      "needs_background": "light"
     },
     "output_type": "display_data"
    }
   ],
   "source": [
    "plt.plot([1, 5, 10, 15, 20], [rund1, rund5, rund10, rund15, rund20])\n",
    "plt.ylabel('example-presentations')\n",
    "plt.xlabel('N')\n",
    "plt.show()"
   ]
  },
  {
   "cell_type": "code",
   "execution_count": null,
   "metadata": {},
   "outputs": [],
   "source": []
  }
 ],
 "metadata": {
  "kernelspec": {
   "display_name": "Python 3",
   "language": "python",
   "name": "python3"
  },
  "language_info": {
   "codemirror_mode": {
    "name": "ipython",
    "version": 3
   },
   "file_extension": ".py",
   "mimetype": "text/x-python",
   "name": "python",
   "nbconvert_exporter": "python",
   "pygments_lexer": "ipython3",
   "version": "3.7.3"
  }
 },
 "nbformat": 4,
 "nbformat_minor": 2
}
