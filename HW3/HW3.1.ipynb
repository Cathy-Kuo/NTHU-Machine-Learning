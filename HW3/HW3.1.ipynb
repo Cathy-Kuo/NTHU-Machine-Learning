{
 "cells": [
  {
   "cell_type": "code",
   "execution_count": 90,
   "metadata": {},
   "outputs": [],
   "source": [
    "import string\n",
    "from sklearn.datasets import load_digits\n",
    "from sklearn.linear_model import Perceptron\n",
    "import matplotlib.pyplot as plt"
   ]
  },
  {
   "cell_type": "code",
   "execution_count": 91,
   "metadata": {},
   "outputs": [],
   "source": [
    "f = open('hw3_dataset.txt', \"r\")\n",
    "lines = f.readlines()\n",
    "f.close()\n",
    "trainingSet=[]\n",
    "C=[0] * 20\n",
    "a = 0\n",
    "weight = [0.2, 0.2, 0.2, 0.2, 0.2, 0.2]\n",
    "for line in lines:\n",
    "    sum = 0\n",
    "    trainingSet.append([1, int(line[5]), int(line[6]), int(line[7]), int(line[8]), int(line[9])])\n",
    "    for j in range(5, 10):\n",
    "        sum+= int(line[j])\n",
    "    if sum >2:\n",
    "        C[a] = 1\n",
    "    else:\n",
    "        C[a] = 0\n",
    "    a+=1"
   ]
  },
  {
   "cell_type": "code",
   "execution_count": 92,
   "metadata": {},
   "outputs": [],
   "source": [
    "def CH(pos, data):\n",
    "    h = 0\n",
    "    for i in range(6):\n",
    "        h+=round((weight[i]*data[i]), 1)\n",
    "    h = round(h, 1)\n",
    "    if h<=0:\n",
    "        h = 0\n",
    "    else:\n",
    "        h = 1\n",
    "    return (C[pos]-h)"
   ]
  },
  {
   "cell_type": "code",
   "execution_count": 93,
   "metadata": {},
   "outputs": [],
   "source": [
    "def Weight(rate, ch, x):\n",
    "    for i in range(6):\n",
    "        weight[i] = round ((weight[i] + rate*ch*x[i]), 1)"
   ]
  },
  {
   "cell_type": "code",
   "execution_count": 94,
   "metadata": {},
   "outputs": [
    {
     "name": "stdout",
     "output_type": "stream",
     "text": [
      "10\n"
     ]
    }
   ],
   "source": [
    "for i in range(6):\n",
    "    weight[i] = 0.2\n",
    "done = 0\n",
    "count = 0\n",
    "rund2 = 0\n",
    "while done!=1 :\n",
    "    rund2+=1\n",
    "    for i in range(20):\n",
    "        ch = CH(i, trainingSet[i])\n",
    "        if (ch!=0):\n",
    "            Weight(0.2, ch, trainingSet[i])\n",
    "            count = 0\n",
    "        else:\n",
    "            count+=1\n",
    "        if (count==20):\n",
    "            done = 1\n",
    "print(rund2)"
   ]
  },
  {
   "cell_type": "code",
   "execution_count": 95,
   "metadata": {},
   "outputs": [
    {
     "name": "stdout",
     "output_type": "stream",
     "text": [
      "13\n"
     ]
    }
   ],
   "source": [
    "for i in range(6):\n",
    "    weight[i] = 0.2\n",
    "done = 0\n",
    "count = 0\n",
    "rund4 = 0\n",
    "while done!=1 :\n",
    "    rund4+=1\n",
    "    for i in range(20):\n",
    "        ch = CH(i, trainingSet[i])\n",
    "        if (ch!=0):\n",
    "            Weight(0.4, ch, trainingSet[i])\n",
    "            count = 0\n",
    "        else:\n",
    "            count+=1\n",
    "        if (count==20):\n",
    "            done = 1\n",
    "print(rund4)"
   ]
  },
  {
   "cell_type": "code",
   "execution_count": 96,
   "metadata": {},
   "outputs": [
    {
     "name": "stdout",
     "output_type": "stream",
     "text": [
      "2\n"
     ]
    }
   ],
   "source": [
    "for i in range(6):\n",
    "    weight[i] = 0.2\n",
    "done = 0\n",
    "count = 0\n",
    "rund6 = 0\n",
    "while done!=1 :\n",
    "    rund6+=1\n",
    "    for i in range(20):\n",
    "        ch = CH(i, trainingSet[i])\n",
    "        if (ch!=0):\n",
    "            Weight(0.6, ch, trainingSet[i])\n",
    "            count = 0\n",
    "        else:\n",
    "            count+=1\n",
    "        if (count==20):\n",
    "            done = 1\n",
    "print(rund6)"
   ]
  },
  {
   "cell_type": "code",
   "execution_count": 97,
   "metadata": {},
   "outputs": [
    {
     "name": "stdout",
     "output_type": "stream",
     "text": [
      "11\n"
     ]
    }
   ],
   "source": [
    "for i in range(6):\n",
    "    weight[i] = 0.2\n",
    "done = 0\n",
    "count = 0\n",
    "rund8 = 0\n",
    "while done!=1 :\n",
    "    rund8+=1\n",
    "    for i in range(20):\n",
    "        ch = CH(i, trainingSet[i])\n",
    "        if (ch!=0):\n",
    "            Weight(0.8, ch, trainingSet[i])\n",
    "            count = 0\n",
    "        else:\n",
    "            count+=1\n",
    "        if (count==20):\n",
    "            done = 1\n",
    "print(rund8)"
   ]
  },
  {
   "cell_type": "code",
   "execution_count": 98,
   "metadata": {},
   "outputs": [
    {
     "name": "stdout",
     "output_type": "stream",
     "text": [
      "11\n"
     ]
    }
   ],
   "source": [
    "for i in range(6):\n",
    "    weight[i] = 0.2\n",
    "done = 0\n",
    "count = 0\n",
    "rund1 = 0\n",
    "while done!=1 :\n",
    "    rund1+=1\n",
    "    for i in range(20):\n",
    "        ch = CH(i, trainingSet[i])\n",
    "        if (ch!=0):\n",
    "            Weight(1.0, ch, trainingSet[i])\n",
    "            count = 0\n",
    "        else:\n",
    "            count+=1\n",
    "        if (count==20):\n",
    "            done = 1\n",
    "print(rund1)"
   ]
  },
  {
   "cell_type": "code",
   "execution_count": 99,
   "metadata": {},
   "outputs": [
    {
     "data": {
      "image/png": "[encoded data removed]",
      "text/plain": [
       "<Figure size 432x288 with 1 Axes>"
      ]
     },
     "metadata": {
      "needs_background": "light"
     },
     "output_type": "display_data"
    }
   ],
   "source": [
    "plt.plot([0.2, 0.4, 0.6, 0.8, 1.0], [rund2, rund4, rund6, rund8, rund1])\n",
    "plt.ylabel('example-presentations')\n",
    "plt.xlabel('learning-rate')\n",
    "plt.show()"
   ]
  },
  {
   "cell_type": "code",
   "execution_count": null,
   "metadata": {},
   "outputs": [],
   "source": []
  }
 ],
 "metadata": {
  "kernelspec": {
   "display_name": "Python 3",
   "language": "python",
   "name": "python3"
  },
  "language_info": {
   "codemirror_mode": {
    "name": "ipython",
    "version": 3
   },
   "file_extension": ".py",
   "mimetype": "text/x-python",
   "name": "python",
   "nbconvert_exporter": "python",
   "pygments_lexer": "ipython3",
   "version": "3.7.3"
  }
 },
 "nbformat": 4,
 "nbformat_minor": 2
}
