{
 "cells": [
  {
   "cell_type": "code",
   "execution_count": 1,
   "metadata": {},
   "outputs": [],
   "source": [
    "import string\n",
    "import math\n",
    "import csv\n",
    "import random\n",
    "import matplotlib.pyplot as plt"
   ]
  },
  {
   "cell_type": "code",
   "execution_count": 2,
   "metadata": {},
   "outputs": [],
   "source": [
    "with open(\"iris.data.txt\") as csvfile:\n",
    "    lines=csv.reader(csvfile)\n",
    "    dataset = list(lines)\n",
    "x=[]\n",
    "t = []\n",
    "psum = 0\n",
    "nsum = 0\n",
    "i = 0\n",
    "for i in range(len(dataset)-1):\n",
    "    x.append([float(dataset[i][0]), float(dataset[i][1]), float(dataset[i][2]), float(dataset[i][3])])\n",
    "    if (i>=0 and i<50):\n",
    "        t.append([1, 0, 0])\n",
    "    elif (i>=50 and i<100):\n",
    "        t.append([0, 1, 0])\n",
    "    else:\n",
    "        t.append([0, 0, 1])\n",
    "    i+=1"
   ]
  },
  {
   "cell_type": "code",
   "execution_count": 3,
   "metadata": {},
   "outputs": [],
   "source": [
    "def F(nid):\n",
    "    #3\n",
    "    for i in range(4):\n",
    "        sig = 0\n",
    "        for j in range(4):\n",
    "            sig+=x[nid][j]*weight3[j][i]\n",
    "        e = math.exp(-sig)\n",
    "        h[nid][i] = 1/(1+e)\n",
    "    #2\n",
    "    for i in range(4):\n",
    "        sig = 0\n",
    "        for j in range(4):\n",
    "            sig+=h[nid][j]*weight2[j][i]\n",
    "        e = math.exp(-sig)\n",
    "        g[nid][i] = 1/(1+e)\n",
    "    #1\n",
    "    for i in range(3):\n",
    "        sig = 0\n",
    "        for j in range(4):\n",
    "            sig+=g[nid][j]*weight1[j][i]\n",
    "        e = math.exp(-sig)\n",
    "        y[nid][i] = 1/(1+e)"
   ]
  },
  {
   "cell_type": "code",
   "execution_count": 4,
   "metadata": {},
   "outputs": [],
   "source": [
    "def S(nid):\n",
    "    #1\n",
    "    for i in range(3):\n",
    "        s1[nid][i] = y[nid][i]*(1-y[nid][i])*(t[nid][i]-y[nid][i])\n",
    "    #2\n",
    "    for j in range(4):\n",
    "        sig = 0\n",
    "        for i in range(3):\n",
    "            sig+=s1[nid][i]*weight1[j][i]\n",
    "        s2[nid][j] =g[nid][j]*(1-g[nid][j])*sig\n",
    "   #3\n",
    "    for j in range(4):\n",
    "        sig = 0\n",
    "        for i in range(4):\n",
    "            sig+=s2[nid][i]*weight2[j][i]\n",
    "        s3[nid][j] =h[nid][j]*(1-h[nid][j])*sig"
   ]
  },
  {
   "cell_type": "code",
   "execution_count": 5,
   "metadata": {},
   "outputs": [],
   "source": [
    "def Weight(lr, nid):\n",
    "    #1:\n",
    "    for j in range(4):\n",
    "        for i in range(3):\n",
    "            weight1[j][i] = weight1[j][i] + lr*s1[nid][i]*g[nid][j]\n",
    "    #2\n",
    "    for j in range(4):\n",
    "        for i in range(4):\n",
    "            weight2[j][i] = weight2[j][i] + lr*s2[nid][i]*h[nid][j]\n",
    "    #3\n",
    "    for j in range(4):\n",
    "        for i in range(4):\n",
    "            weight3[j][i] = weight3[j][i] + lr*s3[nid][i]*x[nid][j]"
   ]
  },
  {
   "cell_type": "code",
   "execution_count": 6,
   "metadata": {},
   "outputs": [],
   "source": [
    "def Mse():\n",
    "    sum1 = 0\n",
    "    for i in range(150):\n",
    "        F(i)\n",
    "        m = 0\n",
    "        for j in range(3):\n",
    "            m+=pow((y[i][j]-t[i][j]), 2)\n",
    "        sum1+=(m/3)\n",
    "    sum1 = sum1/150\n",
    "    return sum1"
   ]
  },
  {
   "cell_type": "code",
   "execution_count": 7,
   "metadata": {},
   "outputs": [
    {
     "name": "stdout",
     "output_type": "stream",
     "text": [
      "learning-rate : 0.1\n",
      "epoch :  1 The absolute fraction of change in MSE :  X\n",
      "epoch :  2 The absolute fraction of change in MSE :  0.0075179005464747935\n",
      "epoch :  3 The absolute fraction of change in MSE :  0.00015895789303902393\n",
      "epoch :  4 The absolute fraction of change in MSE :  0.0006181389655207842\n",
      "epoch :  5 The absolute fraction of change in MSE :  0.0003439880828420782\n",
      "epoch :  6 The absolute fraction of change in MSE :  0.00012711333990968014\n",
      "epoch :  7 The absolute fraction of change in MSE :  7.800540798624108e-06\n",
      "Total epoch :  7\n"
     ]
    }
   ],
   "source": [
    "print(\"learning-rate : 0.1\")\n",
    "h = [] \n",
    "g = []\n",
    "y = []\n",
    "s1 = []\n",
    "s2 = []\n",
    "s3 = []\n",
    "weight1 = []\n",
    "weight2 = []\n",
    "weight3 = []\n",
    "for i in range(4):\n",
    "    weight1.append([random.uniform(-0.1,0.1), random.uniform(-0.1,0.1), random.uniform(-0.1,0.1)])\n",
    "    weight2.append([random.uniform(-0.1,0.1), random.uniform(-0.1,0.1), random.uniform(-0.1,0.1), random.uniform(-0.1,0.1)])\n",
    "    weight3.append([random.uniform(-0.1,0.1), random.uniform(-0.1,0.1), random.uniform(-0.1,0.1), random.uniform(-0.1,0.1)])\n",
    "for i in range(150):\n",
    "    h.append([0, 0, 0, 0])\n",
    "    g.append([0, 0, 0, 0])\n",
    "    y.append([0, 0, 0, 0])\n",
    "    s1.append([0, 0, 0])\n",
    "    s2.append([0, 0, 0, 0])\n",
    "    s3.append([0, 0, 0, 0])\n",
    "converge = 0\n",
    "epoch = 0\n",
    "while converge==0:\n",
    "    epoch+=1\n",
    "    print(\"epoch : \", epoch, end=\" \")\n",
    "    nsum = 0\n",
    "    for i in range(150):\n",
    "        F(i)\n",
    "        S(i)\n",
    "        Weight(0.1, i)\n",
    "    nsum = Mse()\n",
    "    if epoch>1:\n",
    "        tmp = (nsum-psum)/psum\n",
    "        tmp = abs(tmp)\n",
    "        print(\"The absolute fraction of change in MSE : \", tmp)\n",
    "        if tmp<=0.0001:\n",
    "            converge=1\n",
    "    else:\n",
    "        print(\"The absolute fraction of change in MSE : \", \"X\")\n",
    "    psum = nsum\n",
    "print(\"Total epoch : \", epoch)"
   ]
  },
  {
   "cell_type": "code",
   "execution_count": null,
   "metadata": {},
   "outputs": [],
   "source": []
  }
 ],
 "metadata": {
  "kernelspec": {
   "display_name": "Python 3",
   "language": "python",
   "name": "python3"
  },
  "language_info": {
   "codemirror_mode": {
    "name": "ipython",
    "version": 3
   },
   "file_extension": ".py",
   "mimetype": "text/x-python",
   "name": "python",
   "nbconvert_exporter": "python",
   "pygments_lexer": "ipython3",
   "version": "3.7.3"
  }
 },
 "nbformat": 4,
 "nbformat_minor": 2
}
