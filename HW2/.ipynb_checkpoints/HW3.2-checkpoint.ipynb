{
 "cells": [
  {
   "cell_type": "code",
   "execution_count": 1,
   "metadata": {},
   "outputs": [],
   "source": [
    "import csv"
   ]
  },
  {
   "cell_type": "code",
   "execution_count": 2,
   "metadata": {},
   "outputs": [],
   "source": [
    "with open(\"iris.data.txt\") as csvfile:\n",
    "    lines=csv.reader(csvfile)"
   ]
  },
  {
   "cell_type": "code",
   "execution_count": 3,
   "metadata": {},
   "outputs": [],
   "source": [
    "def loadDataset(filename, trainingSet=[], testSet=[]):\n",
    "    with open(filename, 'r') as csvfile:\n",
    "        lines = csv.reader(csvfile)\n",
    "        dataset = list(lines)\n",
    "        for x in range(len(dataset)-1):\n",
    "            for y in range(4):\n",
    "                dataset[x][y] = float(dataset[x][y])\n",
    "            if (x%50)<30 :\n",
    "                trainingSet.append(dataset[x])\n",
    "            else :\n",
    "                testSet.append(dataset[x])"
   ]
  },
  {
   "cell_type": "code",
   "execution_count": 4,
   "metadata": {},
   "outputs": [],
   "source": [
    "trainingSet=[]\n",
    "testSet=[]\n",
    "loadDataset(r'iris.data.txt', trainingSet, testSet)"
   ]
  },
  {
   "cell_type": "code",
   "execution_count": 5,
   "metadata": {},
   "outputs": [],
   "source": [
    "import math\n",
    "def dis(ex1, ex2):\n",
    "    distance = 0\n",
    "    for i in range(4):\n",
    "        distance+=pow((ex1[i]-ex2[i]), 2)\n",
    "    return math.sqrt(distance)"
   ]
  },
  {
   "cell_type": "code",
   "execution_count": 6,
   "metadata": {},
   "outputs": [],
   "source": [
    "def classfier1(ex):\n",
    "    dist = 1000000\n",
    "    after = \"Iris-setosa\"\n",
    "    for s in trainingSet :\n",
    "        newdist = dis(ex, s)\n",
    "        if (newdist<dist):\n",
    "            dist = newdist\n",
    "            after = s[4]\n",
    "    return after\n",
    "            "
   ]
  },
  {
   "cell_type": "code",
   "execution_count": 7,
   "metadata": {},
   "outputs": [
    {
     "name": "stdout",
     "output_type": "stream",
     "text": [
      "correct number: 58\n",
      "\n",
      "incorrect number: 2\n",
      "\n",
      "accuracy: 0.966667\n",
      "\n"
     ]
    }
   ],
   "source": [
    "correct = 0\n",
    "error = 0\n",
    "for t in testSet:\n",
    "    origin = t[4]\n",
    "    get = classfier1(t)\n",
    "    if (origin==get):\n",
    "        correct+=1\n",
    "    else:\n",
    "        error+=1\n",
    "correct_rate = correct/60\n",
    "print(\"correct number: %d\\n\" %correct)\n",
    "print(\"incorrect number: %d\\n\" %error)\n",
    "print(\"accuracy: %f\\n\" %correct_rate)"
   ]
  },
  {
   "cell_type": "code",
   "execution_count": null,
   "metadata": {},
   "outputs": [],
   "source": []
  }
 ],
 "metadata": {
  "kernelspec": {
   "display_name": "Python 3",
   "language": "python",
   "name": "python3"
  },
  "language_info": {
   "codemirror_mode": {
    "name": "ipython",
    "version": 3
   },
   "file_extension": ".py",
   "mimetype": "text/x-python",
   "name": "python",
   "nbconvert_exporter": "python",
   "pygments_lexer": "ipython3",
   "version": "3.7.3"
  }
 },
 "nbformat": 4,
 "nbformat_minor": 2
}
