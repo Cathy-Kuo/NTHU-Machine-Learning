{
 "cells": [
  {
   "cell_type": "code",
   "execution_count": 144,
   "metadata": {},
   "outputs": [],
   "source": [
    "import csv\n",
    "import string\n",
    "import math\n",
    "from sklearn.neighbors import KNeighborsClassifier"
   ]
  },
  {
   "cell_type": "code",
   "execution_count": 145,
   "metadata": {},
   "outputs": [],
   "source": [
    "with open(\"iris.data.txt\") as csvfile:\n",
    "    lines=csv.reader(csvfile)"
   ]
  },
  {
   "cell_type": "code",
   "execution_count": 146,
   "metadata": {},
   "outputs": [],
   "source": [
    "def loadDataset(filename, trainingDtataSet=[], trainingLabelSet=[]):\n",
    "    with open(filename, 'r') as csvfile:\n",
    "        lines = csv.reader(csvfile)\n",
    "        dataset = list(lines)\n",
    "        for x in range(len(dataset)-1):\n",
    "            for y in range(4):\n",
    "                dataset[x][y] = float(dataset[x][y])\n",
    "            trainingDtataSet.append([dataset[x][0], dataset[x][1], dataset[x][2], dataset[x][3]])\n",
    "        for i in range(150):\n",
    "            if i<50:\n",
    "                trainingLabelSet[i]=0\n",
    "            elif i>=50 and i <100:\n",
    "                trainingLabelSet[i]=1\n",
    "            else:\n",
    "                trainingLabelSet[i]=2"
   ]
  },
  {
   "cell_type": "code",
   "execution_count": 147,
   "metadata": {},
   "outputs": [],
   "source": [
    "def takeSecond(elem):\n",
    "    return elem[1]"
   ]
  },
  {
   "cell_type": "code",
   "execution_count": 148,
   "metadata": {},
   "outputs": [],
   "source": [
    "trainingDtataSet=[]\n",
    "trainingLabelSet=[0]*150\n",
    "test=[]\n",
    "dist = [0]*150\n",
    "ansset = []\n",
    "ans = [0]*3\n",
    "loadDataset(r'iris.data.txt', trainingDtataSet, trainingLabelSet)"
   ]
  },
  {
   "cell_type": "code",
   "execution_count": 149,
   "metadata": {},
   "outputs": [],
   "source": [
    "def dis(ex1, ex2):\n",
    "    distance = 0\n",
    "    for i in range(4):\n",
    "        distance+=pow((ex1[i]-ex2[i]), 2)\n",
    "    return math.sqrt(distance)"
   ]
  },
  {
   "cell_type": "code",
   "execution_count": 150,
   "metadata": {},
   "outputs": [],
   "source": [
    "def classfier1(k, ex):\n",
    "    after = \"Iris-setosa\"\n",
    "    for i in range(150) :\n",
    "        dist[i] = dis(ex, trainingDtataSet[i])\n",
    "        ansset.append([trainingLabelSet[i], dist[i]])\n",
    "    ansset.sort(key=takeSecond)\n",
    "    for i in range(k):\n",
    "        if ansset[i][0]==0:\n",
    "            ans[0]+=1;\n",
    "        elif ansset[i][0]==1:\n",
    "            ans[1]+=1;\n",
    "        else:\n",
    "            ans[2]+=1;\n",
    "    return ans"
   ]
  },
  {
   "cell_type": "code",
   "execution_count": 151,
   "metadata": {},
   "outputs": [
    {
     "name": "stdout",
     "output_type": "stream",
     "text": [
      "k:10\n",
      "test data1:2\n",
      "test data2:4\n",
      "test data3:5\n",
      "test data4:3\n",
      "Label : Iris-virginica\n"
     ]
    }
   ],
   "source": [
    "k=input('k:')\n",
    "k = int(k)\n",
    "data1 = input('test data1:')\n",
    "data2 = input('test data2:')\n",
    "data3 = input('test data3:')\n",
    "data4 = input('test data4:')\n",
    "test = [float(data1), float(data2), float(data3), float(data4)]\n",
    "a = classfier1(k, test)\n",
    "anskey = 0\n",
    "f=0\n",
    "for i in range(3):\n",
    "    if a[i]>anskey:\n",
    "        anskey = a[i]\n",
    "        f = i\n",
    "if f==0:\n",
    "    print(\"Label : Iris-setosa\")\n",
    "elif f==1:\n",
    "    print(\"Label : Iris-versicolor\")\n",
    "else:\n",
    "    print(\"Label : Iris-virginica\")"
   ]
  },
  {
   "cell_type": "code",
   "execution_count": null,
   "metadata": {},
   "outputs": [],
   "source": []
  }
 ],
 "metadata": {
  "kernelspec": {
   "display_name": "Python 3",
   "language": "python",
   "name": "python3"
  },
  "language_info": {
   "codemirror_mode": {
    "name": "ipython",
    "version": 3
   },
   "file_extension": ".py",
   "mimetype": "text/x-python",
   "name": "python",
   "nbconvert_exporter": "python",
   "pygments_lexer": "ipython3",
   "version": "3.7.3"
  }
 },
 "nbformat": 4,
 "nbformat_minor": 2
}
