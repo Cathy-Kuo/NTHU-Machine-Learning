{
 "cells": [
  {
   "cell_type": "code",
   "execution_count": 72,
   "metadata": {},
   "outputs": [],
   "source": [
    "import csv\n",
    "import string\n",
    "from sklearn.neighbors import KNeighborsClassifier"
   ]
  },
  {
   "cell_type": "code",
   "execution_count": 73,
   "metadata": {},
   "outputs": [],
   "source": [
    "with open(\"iris.data.txt\") as csvfile:\n",
    "    lines=csv.reader(csvfile)"
   ]
  },
  {
   "cell_type": "code",
   "execution_count": 74,
   "metadata": {},
   "outputs": [],
   "source": [
    "def loadDataset(filename, trainingDtataSet=[], trainingLabelSet=[], testDataSet=[]):\n",
    "    with open(filename, 'r') as csvfile:\n",
    "        lines = csv.reader(csvfile)\n",
    "        dataset = list(lines)\n",
    "        for x in range(len(dataset)-1):\n",
    "            for y in range(4):\n",
    "                dataset[x][y] = float(dataset[x][y])\n",
    "            trainingDtataSet.append([dataset[x][0], dataset[x][1], dataset[x][2], dataset[x][3]])\n",
    "            trainingLabelSet.append(dataset[x][4])"
   ]
  },
  {
   "cell_type": "code",
   "execution_count": 75,
   "metadata": {},
   "outputs": [
    {
     "name": "stdout",
     "output_type": "stream",
     "text": [
      "T:150\n",
      "S:150\n"
     ]
    }
   ],
   "source": [
    "trainingDtataSet=[]\n",
    "trainingLabelSet=[]\n",
    "testDataSet=[]\n",
    "loadDataset(r'iris.data.txt', trainingDtataSet, trainingLabelSet, testDataSet)\n",
    "print('T:' + repr(len(trainingDtataSet)))\n",
    "print('S:' + repr(len(trainingLabelSet)))"
   ]
  },
  {
   "cell_type": "code",
   "execution_count": 78,
   "metadata": {},
   "outputs": [
    {
     "name": "stdout",
     "output_type": "stream",
     "text": [
      "k:10\n",
      "test data1:Done\n"
     ]
    }
   ],
   "source": [
    "k=input('k:')\n",
    "k_classifier = KNeighborsClassifier(int(k))\n",
    "k_classifier.fit(trainingDtataSet,trainingLabelSet)\n",
    "while True :\n",
    "    data1 = input('test data1:')\n",
    "    if data1 == 'Done':break\n",
    "    data2 = input('test data2:')\n",
    "    data3 = input('test data3:')\n",
    "    data4 = input('test data4:')\n",
    "    testDataSet = [[float(data1), float(data2), float(data3), float(data4)]]\n",
    "    print(testDataSet)\n",
    "    print(k_classifier.predict(testDataSet))"
   ]
  }
 ],
 "metadata": {
  "kernelspec": {
   "display_name": "Python 3",
   "language": "python",
   "name": "python3"
  }
 },
 "nbformat": 4,
 "nbformat_minor": 2
}
