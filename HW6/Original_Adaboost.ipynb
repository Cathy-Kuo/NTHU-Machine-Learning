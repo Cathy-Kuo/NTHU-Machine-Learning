{
 "cells": [
  {
   "cell_type": "code",
   "execution_count": 1,
   "metadata": {},
   "outputs": [],
   "source": [
    "import string\n",
    "import math\n",
    "import csv\n",
    "import random\n",
    "import matplotlib.pyplot as plt\n",
    "import numpy as np"
   ]
  },
  {
   "cell_type": "code",
   "execution_count": 2,
   "metadata": {},
   "outputs": [],
   "source": [
    "with open(\"training-data.txt\") as csvfile:\n",
    "    lines=csv.reader(csvfile)\n",
    "    dataset = list(lines)\n",
    "training = []\n",
    "class_train = [0]*90\n",
    "prob = [1/90]*90\n",
    "for i in range(len(dataset)):\n",
    "    if (i>=0 and i<45):\n",
    "        training.append([float(dataset[i][0]), float(dataset[i][1]), float(dataset[i][2]), float(dataset[i][3])])\n",
    "        class_train[i] = 1\n",
    "    else:\n",
    "        training.append([float(dataset[i][0]), float(dataset[i][1]), float(dataset[i][2]), float(dataset[i][3])])\n",
    "        class_train[i] = -1"
   ]
  },
  {
   "cell_type": "code",
   "execution_count": 3,
   "metadata": {},
   "outputs": [],
   "source": [
    "with open(\"testing-data.txt\") as csvfile:\n",
    "    lines1=csv.reader(csvfile)\n",
    "    dataset = list(lines1)\n",
    "test = []\n",
    "class_test = [0]*10\n",
    "for i in range(len(dataset)):\n",
    "    if (i>=0 and i<5):\n",
    "        test.append([float(dataset[i][0]), float(dataset[i][1]), float(dataset[i][2]), float(dataset[i][3])])\n",
    "        class_test[i] = 1\n",
    "    else:\n",
    "        test.append([float(dataset[i][0]), float(dataset[i][1]), float(dataset[i][2]), float(dataset[i][3])])\n",
    "        class_test[i] = -1"
   ]
  },
  {
   "cell_type": "code",
   "execution_count": 4,
   "metadata": {},
   "outputs": [],
   "source": [
    "#k-NN"
   ]
  },
  {
   "cell_type": "code",
   "execution_count": 5,
   "metadata": {},
   "outputs": [],
   "source": [
    "e = [0]*90\n",
    "testAttr=[[0]*9 for i in range(10)]\n",
    "a = [0]*9"
   ]
  },
  {
   "cell_type": "code",
   "execution_count": 6,
   "metadata": {},
   "outputs": [],
   "source": [
    "def takeSecond(elem):\n",
    "    return elem[1]"
   ]
  },
  {
   "cell_type": "code",
   "execution_count": 7,
   "metadata": {},
   "outputs": [],
   "source": [
    "def dis(ex1, ex2):\n",
    "    distance = 0\n",
    "    for i in range(4):\n",
    "        distance+=pow((ex1[i]-ex2[i]), 2)\n",
    "    return math.sqrt(distance)"
   ]
  },
  {
   "cell_type": "code",
   "execution_count": 8,
   "metadata": {},
   "outputs": [],
   "source": [
    "def kNN(ex, adaSet):\n",
    "    ansset = []\n",
    "    ans = [0]*2\n",
    "    label = 1\n",
    "    for i in range(10) :\n",
    "        dist = dis(ex, training[adaSet[i]])\n",
    "        ansset.append([class_train[adaSet[i]], dist])\n",
    "    ansset.sort(key=takeSecond)\n",
    "    for j in range(3):\n",
    "        if ansset[j][0]==1:\n",
    "            ans[0]+=1;\n",
    "        else:\n",
    "            ans[1]+=1;\n",
    "    if ans[0]<ans[1]:\n",
    "        label = -1\n",
    "    return label"
   ]
  },
  {
   "cell_type": "code",
   "execution_count": 9,
   "metadata": {},
   "outputs": [],
   "source": [
    "def normalize(pro):\n",
    "    sum = 0\n",
    "    for i in range(90):\n",
    "        sum+=pro[i]\n",
    "    for j in range(90):\n",
    "        pro[j] = (1/sum)*pro[j]\n",
    "    return pro"
   ]
  },
  {
   "cell_type": "code",
   "execution_count": 10,
   "metadata": {
    "scrolled": false
   },
   "outputs": [],
   "source": [
    "for i in range(9):\n",
    "    err = 0\n",
    "    adaSet = np.random.choice(90, 10, replace=True, p=prob)\n",
    "    for testing in range(10):\n",
    "        testAttr[testing][i] = kNN(test[testing], adaSet)\n",
    "    for j in range(90):\n",
    "        if class_train[j] == kNN(training[j], adaSet):\n",
    "            e[j] = 0\n",
    "        else:\n",
    "            e[j] = 1\n",
    "        err = err + prob[j]*e[j]\n",
    "    a[i] = math.log((1-err)/err)\n",
    "    b = math.sqrt(err/(1-err))/2\n",
    "    if b!=0:\n",
    "        for k in range(90):\n",
    "            if e[k]==0:\n",
    "                prob[k] = b*prob[k]\n",
    "        prob = normalize(prob)"
   ]
  },
  {
   "cell_type": "code",
   "execution_count": 11,
   "metadata": {},
   "outputs": [
    {
     "name": "stdout",
     "output_type": "stream",
     "text": [
      "Accuracy of original adaboost: 100.0 %\n"
     ]
    }
   ],
   "source": [
    "h_test = [1]*10\n",
    "error = 0\n",
    "for i in range (10):\n",
    "    sig = 0\n",
    "    for j in range(9):\n",
    "        sig += a[j] * testAttr[i][j]\n",
    "    if (sig<=0):\n",
    "        h_test[i] = -1\n",
    "    if h_test[i]!= class_test[i]:\n",
    "        error+=1\n",
    "acc = 10-error\n",
    "print (\"Accuracy of original adaboost:\", acc/10*100, \"%\")"
   ]
  },
  {
   "cell_type": "code",
   "execution_count": 12,
   "metadata": {},
   "outputs": [
    {
     "name": "stdout",
     "output_type": "stream",
     "text": [
      "[NbConvertApp] Converting notebook Original_Adaboost.ipynb to script\n",
      "[NbConvertApp] Writing 2865 bytes to Original_Adaboost.py\n"
     ]
    }
   ],
   "source": [
    "!jupyter nbconvert --to script Original_Adaboost.ipynb"
   ]
  },
  {
   "cell_type": "code",
   "execution_count": null,
   "metadata": {},
   "outputs": [],
   "source": []
  }
 ],
 "metadata": {
  "kernelspec": {
   "display_name": "Python 3",
   "language": "python",
   "name": "python3"
  },
  "language_info": {
   "codemirror_mode": {
    "name": "ipython",
    "version": 3
   },
   "file_extension": ".py",
   "mimetype": "text/x-python",
   "name": "python",
   "nbconvert_exporter": "python",
   "pygments_lexer": "ipython3",
   "version": "3.7.4"
  }
 },
 "nbformat": 4,
 "nbformat_minor": 2
}
