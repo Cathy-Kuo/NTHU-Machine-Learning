{
 "cells": [
  {
   "cell_type": "code",
   "execution_count": 26,
   "metadata": {},
   "outputs": [],
   "source": [
    "import string\n",
    "from sklearn.datasets import load_digits\n",
    "import random\n",
    "import csv"
   ]
  },
  {
   "cell_type": "code",
   "execution_count": 27,
   "metadata": {},
   "outputs": [],
   "source": [
    "with open(\"training-data.txt\") as csvfile:\n",
    "    lines=csv.reader(csvfile)\n",
    "    dataset = list(lines)\n",
    "trainingSet = []\n",
    "C=[0] * 90\n",
    "rate = 0.2\n",
    "weight = [0.2]*5\n",
    "for i in range(len(dataset)):\n",
    "    if (i>=0 and i<45):\n",
    "        trainingSet.append([1, float(dataset[i][0]), float(dataset[i][1]), float(dataset[i][2]), float(dataset[i][3])])\n",
    "        C[i] = 0\n",
    "    else:\n",
    "        trainingSet.append([1, float(dataset[i][0]), float(dataset[i][1]), float(dataset[i][2]), float(dataset[i][3])])\n",
    "        C[i] = 1"
   ]
  },
  {
   "cell_type": "code",
   "execution_count": 28,
   "metadata": {},
   "outputs": [],
   "source": [
    "with open(\"testing-data.txt\") as csvfile:\n",
    "    lines=csv.reader(csvfile)\n",
    "    dataset = list(lines)\n",
    "testSet = []\n",
    "C_test=[0] * 10\n",
    "for i in range(len(dataset)):\n",
    "    if (i>=0 and i<5):\n",
    "        testSet.append([1, float(dataset[i][0]), float(dataset[i][1]), float(dataset[i][2]), float(dataset[i][3])])\n",
    "        C_test[i] = 0\n",
    "    else:\n",
    "        testSet.append([1, float(dataset[i][0]), float(dataset[i][1]), float(dataset[i][2]), float(dataset[i][3])])\n",
    "        C_test[i] = 1"
   ]
  },
  {
   "cell_type": "code",
   "execution_count": 29,
   "metadata": {},
   "outputs": [],
   "source": [
    "def CH(pos, data):\n",
    "    h = 0\n",
    "    for i in range(5):\n",
    "        h+=round(weight[i]*data[i], 1)\n",
    "    h = round(h, 1)\n",
    "    if h<=2:\n",
    "        h = 0\n",
    "    else:\n",
    "        h = 1\n",
    "    return (C[pos]-h)"
   ]
  },
  {
   "cell_type": "code",
   "execution_count": 30,
   "metadata": {},
   "outputs": [],
   "source": [
    "def Weight(ch, x):\n",
    "    for i in range(5):\n",
    "        weight[i] = round ((weight[i] + rate*ch*x[i]), 1)"
   ]
  },
  {
   "cell_type": "code",
   "execution_count": 31,
   "metadata": {},
   "outputs": [
    {
     "name": "stdout",
     "output_type": "stream",
     "text": [
      "[-2.4, 1.3, 0.8, 0.9, 1.0]\n"
     ]
    }
   ],
   "source": [
    "done = 0\n",
    "count = 0\n",
    "rund = 10000\n",
    "while (done!=1) :\n",
    "    for i in range(90):\n",
    "        ch = CH(i, trainingSet[i])\n",
    "        if (ch!=0):\n",
    "            Weight(ch, trainingSet[i])\n",
    "            count = 0\n",
    "        else:\n",
    "            count+=1\n",
    "        if (count==90 or rund==0):\n",
    "            done = 1\n",
    "    rund = rund-1"
   ]
  },
  {
   "cell_type": "code",
   "execution_count": 32,
   "metadata": {},
   "outputs": [
    {
     "name": "stdout",
     "output_type": "stream",
     "text": [
      "[1, 1, 1, 1, 1, 1, 1, 1, 1, 1]\n",
      "Accuracy of PLA: 50.0 %\n"
     ]
    }
   ],
   "source": [
    "h_test = [0]*10\n",
    "error = 0\n",
    "for i in range (10):\n",
    "    sig = 0\n",
    "    for j in range(5):\n",
    "        sig += weight[j] * testSet[i][j]\n",
    "    if (sig>0):\n",
    "        h_test[i] = 1\n",
    "    if h_test[i]!= C_test[i]:\n",
    "        error+=1\n",
    "print (\"Accuracy of PLA:\", error/10*100, \"%\")"
   ]
  },
  {
   "cell_type": "code",
   "execution_count": null,
   "metadata": {},
   "outputs": [],
   "source": []
  }
 ],
 "metadata": {
  "kernelspec": {
   "display_name": "Python 3",
   "language": "python",
   "name": "python3"
  },
  "language_info": {
   "codemirror_mode": {
    "name": "ipython",
    "version": 3
   },
   "file_extension": ".py",
   "mimetype": "text/x-python",
   "name": "python",
   "nbconvert_exporter": "python",
   "pygments_lexer": "ipython3",
   "version": "3.7.4"
  }
 },
 "nbformat": 4,
 "nbformat_minor": 2
}
